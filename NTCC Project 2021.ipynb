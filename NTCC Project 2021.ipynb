{
 "cells": [
  {
   "cell_type": "code",
   "execution_count": 1,
   "metadata": {},
   "outputs": [],
   "source": [
    "import pandas as pd                       # used for data manipulation\n",
    "from matplotlib import pyplot as plt      # library used for visualization\n",
    "import seaborn as sns                     # library used for visualization\n",
    "import datetime as dt                     # used for manipulation date,time\n",
    "import numpy as np                        # library used for working with arrays, matrices \n",
    "\n"
   ]
  },
  {
   "cell_type": "code",
   "execution_count": 2,
   "metadata": {},
   "outputs": [],
   "source": [
    "covid=pd.read_csv(\"C:\\\\Users\\\\User\\\\Downloads\\\\covid_19_india.csv\",parse_dates=['Date'],dayfirst=True)\n",
    "\n",
    "# parse_dates=['Date'] , we are writing this to tell to pandas because if we do not tell this to pandas then it will treat \n",
    "# that column  as a string or as a categorical column"
   ]
  },
  {
   "cell_type": "code",
   "execution_count": 3,
   "metadata": {},
   "outputs": [
    {
     "data": {
      "text/html": [
       "<div>\n",
       "<style scoped>\n",
       "    .dataframe tbody tr th:only-of-type {\n",
       "        vertical-align: middle;\n",
       "    }\n",
       "\n",
       "    .dataframe tbody tr th {\n",
       "        vertical-align: top;\n",
       "    }\n",
       "\n",
       "    .dataframe thead th {\n",
       "        text-align: right;\n",
       "    }\n",
       "</style>\n",
       "<table border=\"1\" class=\"dataframe\">\n",
       "  <thead>\n",
       "    <tr style=\"text-align: right;\">\n",
       "      <th></th>\n",
       "      <th>Sno</th>\n",
       "      <th>Date</th>\n",
       "      <th>Time</th>\n",
       "      <th>State/UnionTerritory</th>\n",
       "      <th>ConfirmedIndianNational</th>\n",
       "      <th>ConfirmedForeignNational</th>\n",
       "      <th>Cured</th>\n",
       "      <th>Deaths</th>\n",
       "      <th>Confirmed</th>\n",
       "    </tr>\n",
       "  </thead>\n",
       "  <tbody>\n",
       "    <tr>\n",
       "      <td>0</td>\n",
       "      <td>1</td>\n",
       "      <td>2020-01-30</td>\n",
       "      <td>6:00 PM</td>\n",
       "      <td>Kerala</td>\n",
       "      <td>1</td>\n",
       "      <td>0</td>\n",
       "      <td>0</td>\n",
       "      <td>0</td>\n",
       "      <td>1</td>\n",
       "    </tr>\n",
       "    <tr>\n",
       "      <td>1</td>\n",
       "      <td>2</td>\n",
       "      <td>2020-01-31</td>\n",
       "      <td>6:00 PM</td>\n",
       "      <td>Kerala</td>\n",
       "      <td>1</td>\n",
       "      <td>0</td>\n",
       "      <td>0</td>\n",
       "      <td>0</td>\n",
       "      <td>1</td>\n",
       "    </tr>\n",
       "    <tr>\n",
       "      <td>2</td>\n",
       "      <td>3</td>\n",
       "      <td>2020-02-01</td>\n",
       "      <td>6:00 PM</td>\n",
       "      <td>Kerala</td>\n",
       "      <td>2</td>\n",
       "      <td>0</td>\n",
       "      <td>0</td>\n",
       "      <td>0</td>\n",
       "      <td>2</td>\n",
       "    </tr>\n",
       "    <tr>\n",
       "      <td>3</td>\n",
       "      <td>4</td>\n",
       "      <td>2020-02-02</td>\n",
       "      <td>6:00 PM</td>\n",
       "      <td>Kerala</td>\n",
       "      <td>3</td>\n",
       "      <td>0</td>\n",
       "      <td>0</td>\n",
       "      <td>0</td>\n",
       "      <td>3</td>\n",
       "    </tr>\n",
       "    <tr>\n",
       "      <td>4</td>\n",
       "      <td>5</td>\n",
       "      <td>2020-02-03</td>\n",
       "      <td>6:00 PM</td>\n",
       "      <td>Kerala</td>\n",
       "      <td>3</td>\n",
       "      <td>0</td>\n",
       "      <td>0</td>\n",
       "      <td>0</td>\n",
       "      <td>3</td>\n",
       "    </tr>\n",
       "  </tbody>\n",
       "</table>\n",
       "</div>"
      ],
      "text/plain": [
       "   Sno       Date     Time State/UnionTerritory ConfirmedIndianNational  \\\n",
       "0    1 2020-01-30  6:00 PM               Kerala                       1   \n",
       "1    2 2020-01-31  6:00 PM               Kerala                       1   \n",
       "2    3 2020-02-01  6:00 PM               Kerala                       2   \n",
       "3    4 2020-02-02  6:00 PM               Kerala                       3   \n",
       "4    5 2020-02-03  6:00 PM               Kerala                       3   \n",
       "\n",
       "  ConfirmedForeignNational  Cured  Deaths  Confirmed  \n",
       "0                        0      0       0          1  \n",
       "1                        0      0       0          1  \n",
       "2                        0      0       0          2  \n",
       "3                        0      0       0          3  \n",
       "4                        0      0       0          3  "
      ]
     },
     "execution_count": 3,
     "metadata": {},
     "output_type": "execute_result"
    }
   ],
   "source": [
    "covid.head()\n",
    "# to see the first five enteries"
   ]
  },
  {
   "cell_type": "code",
   "execution_count": 4,
   "metadata": {},
   "outputs": [],
   "source": [
    "covid=covid[['Date','State/UnionTerritory','Cured','Deaths','Confirmed']]  # Extracting these columns and again storing them\n",
    "                                                                           #again in covid object\n",
    "covid.columns=['date','state','cured','deaths','confirmed']                # renaming columns"
   ]
  },
  {
   "cell_type": "code",
   "execution_count": 5,
   "metadata": {},
   "outputs": [
    {
     "data": {
      "text/html": [
       "<div>\n",
       "<style scoped>\n",
       "    .dataframe tbody tr th:only-of-type {\n",
       "        vertical-align: middle;\n",
       "    }\n",
       "\n",
       "    .dataframe tbody tr th {\n",
       "        vertical-align: top;\n",
       "    }\n",
       "\n",
       "    .dataframe thead th {\n",
       "        text-align: right;\n",
       "    }\n",
       "</style>\n",
       "<table border=\"1\" class=\"dataframe\">\n",
       "  <thead>\n",
       "    <tr style=\"text-align: right;\">\n",
       "      <th></th>\n",
       "      <th>date</th>\n",
       "      <th>state</th>\n",
       "      <th>cured</th>\n",
       "      <th>deaths</th>\n",
       "      <th>confirmed</th>\n",
       "    </tr>\n",
       "  </thead>\n",
       "  <tbody>\n",
       "    <tr>\n",
       "      <td>0</td>\n",
       "      <td>2020-01-30</td>\n",
       "      <td>Kerala</td>\n",
       "      <td>0</td>\n",
       "      <td>0</td>\n",
       "      <td>1</td>\n",
       "    </tr>\n",
       "    <tr>\n",
       "      <td>1</td>\n",
       "      <td>2020-01-31</td>\n",
       "      <td>Kerala</td>\n",
       "      <td>0</td>\n",
       "      <td>0</td>\n",
       "      <td>1</td>\n",
       "    </tr>\n",
       "    <tr>\n",
       "      <td>2</td>\n",
       "      <td>2020-02-01</td>\n",
       "      <td>Kerala</td>\n",
       "      <td>0</td>\n",
       "      <td>0</td>\n",
       "      <td>2</td>\n",
       "    </tr>\n",
       "    <tr>\n",
       "      <td>3</td>\n",
       "      <td>2020-02-02</td>\n",
       "      <td>Kerala</td>\n",
       "      <td>0</td>\n",
       "      <td>0</td>\n",
       "      <td>3</td>\n",
       "    </tr>\n",
       "    <tr>\n",
       "      <td>4</td>\n",
       "      <td>2020-02-03</td>\n",
       "      <td>Kerala</td>\n",
       "      <td>0</td>\n",
       "      <td>0</td>\n",
       "      <td>3</td>\n",
       "    </tr>\n",
       "  </tbody>\n",
       "</table>\n",
       "</div>"
      ],
      "text/plain": [
       "        date   state  cured  deaths  confirmed\n",
       "0 2020-01-30  Kerala      0       0          1\n",
       "1 2020-01-31  Kerala      0       0          1\n",
       "2 2020-02-01  Kerala      0       0          2\n",
       "3 2020-02-02  Kerala      0       0          3\n",
       "4 2020-02-03  Kerala      0       0          3"
      ]
     },
     "execution_count": 5,
     "metadata": {},
     "output_type": "execute_result"
    }
   ],
   "source": [
    "covid.head()"
   ]
  },
  {
   "cell_type": "code",
   "execution_count": 6,
   "metadata": {},
   "outputs": [
    {
     "data": {
      "text/html": [
       "<div>\n",
       "<style scoped>\n",
       "    .dataframe tbody tr th:only-of-type {\n",
       "        vertical-align: middle;\n",
       "    }\n",
       "\n",
       "    .dataframe tbody tr th {\n",
       "        vertical-align: top;\n",
       "    }\n",
       "\n",
       "    .dataframe thead th {\n",
       "        text-align: right;\n",
       "    }\n",
       "</style>\n",
       "<table border=\"1\" class=\"dataframe\">\n",
       "  <thead>\n",
       "    <tr style=\"text-align: right;\">\n",
       "      <th></th>\n",
       "      <th>date</th>\n",
       "      <th>state</th>\n",
       "      <th>cured</th>\n",
       "      <th>deaths</th>\n",
       "      <th>confirmed</th>\n",
       "    </tr>\n",
       "  </thead>\n",
       "  <tbody>\n",
       "    <tr>\n",
       "      <td>16352</td>\n",
       "      <td>2021-06-24</td>\n",
       "      <td>Chhattisgarh</td>\n",
       "      <td>971057</td>\n",
       "      <td>13407</td>\n",
       "      <td>992074</td>\n",
       "    </tr>\n",
       "    <tr>\n",
       "      <td>16353</td>\n",
       "      <td>2021-06-24</td>\n",
       "      <td>Dadra and Nagar Haveli and Daman and Diu</td>\n",
       "      <td>10459</td>\n",
       "      <td>4</td>\n",
       "      <td>10523</td>\n",
       "    </tr>\n",
       "    <tr>\n",
       "      <td>16354</td>\n",
       "      <td>2021-06-24</td>\n",
       "      <td>Delhi</td>\n",
       "      <td>1406629</td>\n",
       "      <td>24940</td>\n",
       "      <td>1433366</td>\n",
       "    </tr>\n",
       "    <tr>\n",
       "      <td>16355</td>\n",
       "      <td>2021-06-24</td>\n",
       "      <td>Goa</td>\n",
       "      <td>159419</td>\n",
       "      <td>3013</td>\n",
       "      <td>165197</td>\n",
       "    </tr>\n",
       "    <tr>\n",
       "      <td>16356</td>\n",
       "      <td>2021-06-24</td>\n",
       "      <td>Gujarat</td>\n",
       "      <td>807911</td>\n",
       "      <td>10040</td>\n",
       "      <td>822758</td>\n",
       "    </tr>\n",
       "    <tr>\n",
       "      <td>16357</td>\n",
       "      <td>2021-06-24</td>\n",
       "      <td>Haryana</td>\n",
       "      <td>756426</td>\n",
       "      <td>9314</td>\n",
       "      <td>767900</td>\n",
       "    </tr>\n",
       "    <tr>\n",
       "      <td>16358</td>\n",
       "      <td>2021-06-24</td>\n",
       "      <td>Himachal Pradesh</td>\n",
       "      <td>195301</td>\n",
       "      <td>3461</td>\n",
       "      <td>201049</td>\n",
       "    </tr>\n",
       "    <tr>\n",
       "      <td>16359</td>\n",
       "      <td>2021-06-24</td>\n",
       "      <td>Jammu and Kashmir</td>\n",
       "      <td>301973</td>\n",
       "      <td>4273</td>\n",
       "      <td>313028</td>\n",
       "    </tr>\n",
       "    <tr>\n",
       "      <td>16360</td>\n",
       "      <td>2021-06-24</td>\n",
       "      <td>Jharkhand</td>\n",
       "      <td>338446</td>\n",
       "      <td>5104</td>\n",
       "      <td>344914</td>\n",
       "    </tr>\n",
       "    <tr>\n",
       "      <td>16361</td>\n",
       "      <td>2021-06-24</td>\n",
       "      <td>Karnataka</td>\n",
       "      <td>2668705</td>\n",
       "      <td>34287</td>\n",
       "      <td>2819465</td>\n",
       "    </tr>\n",
       "    <tr>\n",
       "      <td>16362</td>\n",
       "      <td>2021-06-24</td>\n",
       "      <td>Kerala</td>\n",
       "      <td>2729967</td>\n",
       "      <td>12445</td>\n",
       "      <td>2842247</td>\n",
       "    </tr>\n",
       "    <tr>\n",
       "      <td>16363</td>\n",
       "      <td>2021-06-24</td>\n",
       "      <td>Ladakh</td>\n",
       "      <td>19341</td>\n",
       "      <td>202</td>\n",
       "      <td>19881</td>\n",
       "    </tr>\n",
       "    <tr>\n",
       "      <td>16364</td>\n",
       "      <td>2021-06-24</td>\n",
       "      <td>Lakshadweep</td>\n",
       "      <td>9172</td>\n",
       "      <td>47</td>\n",
       "      <td>9559</td>\n",
       "    </tr>\n",
       "    <tr>\n",
       "      <td>16365</td>\n",
       "      <td>2021-06-24</td>\n",
       "      <td>Madhya Pradesh</td>\n",
       "      <td>779177</td>\n",
       "      <td>8827</td>\n",
       "      <td>789499</td>\n",
       "    </tr>\n",
       "    <tr>\n",
       "      <td>16366</td>\n",
       "      <td>2021-06-24</td>\n",
       "      <td>Maharashtra</td>\n",
       "      <td>5753290</td>\n",
       "      <td>119303</td>\n",
       "      <td>5997587</td>\n",
       "    </tr>\n",
       "    <tr>\n",
       "      <td>16367</td>\n",
       "      <td>2021-06-24</td>\n",
       "      <td>Manipur</td>\n",
       "      <td>55257</td>\n",
       "      <td>1074</td>\n",
       "      <td>65622</td>\n",
       "    </tr>\n",
       "    <tr>\n",
       "      <td>16368</td>\n",
       "      <td>2021-06-24</td>\n",
       "      <td>Meghalaya</td>\n",
       "      <td>41349</td>\n",
       "      <td>797</td>\n",
       "      <td>46458</td>\n",
       "    </tr>\n",
       "    <tr>\n",
       "      <td>16369</td>\n",
       "      <td>2021-06-24</td>\n",
       "      <td>Mizoram</td>\n",
       "      <td>14096</td>\n",
       "      <td>86</td>\n",
       "      <td>18624</td>\n",
       "    </tr>\n",
       "    <tr>\n",
       "      <td>16370</td>\n",
       "      <td>2021-06-24</td>\n",
       "      <td>Nagaland</td>\n",
       "      <td>22486</td>\n",
       "      <td>477</td>\n",
       "      <td>24541</td>\n",
       "    </tr>\n",
       "    <tr>\n",
       "      <td>16371</td>\n",
       "      <td>2021-06-24</td>\n",
       "      <td>Odisha</td>\n",
       "      <td>853012</td>\n",
       "      <td>3717</td>\n",
       "      <td>886946</td>\n",
       "    </tr>\n",
       "    <tr>\n",
       "      <td>16372</td>\n",
       "      <td>2021-06-24</td>\n",
       "      <td>Puducherry</td>\n",
       "      <td>110838</td>\n",
       "      <td>1731</td>\n",
       "      <td>115627</td>\n",
       "    </tr>\n",
       "    <tr>\n",
       "      <td>16373</td>\n",
       "      <td>2021-06-24</td>\n",
       "      <td>Punjab</td>\n",
       "      <td>572008</td>\n",
       "      <td>15923</td>\n",
       "      <td>593572</td>\n",
       "    </tr>\n",
       "    <tr>\n",
       "      <td>16374</td>\n",
       "      <td>2021-06-24</td>\n",
       "      <td>Rajasthan</td>\n",
       "      <td>940465</td>\n",
       "      <td>8905</td>\n",
       "      <td>951548</td>\n",
       "    </tr>\n",
       "    <tr>\n",
       "      <td>16375</td>\n",
       "      <td>2021-06-24</td>\n",
       "      <td>Sikkim</td>\n",
       "      <td>16903</td>\n",
       "      <td>296</td>\n",
       "      <td>19589</td>\n",
       "    </tr>\n",
       "    <tr>\n",
       "      <td>16376</td>\n",
       "      <td>2021-06-24</td>\n",
       "      <td>Tamil Nadu</td>\n",
       "      <td>2358785</td>\n",
       "      <td>31746</td>\n",
       "      <td>2443415</td>\n",
       "    </tr>\n",
       "    <tr>\n",
       "      <td>16377</td>\n",
       "      <td>2021-06-24</td>\n",
       "      <td>Telangana</td>\n",
       "      <td>596628</td>\n",
       "      <td>3598</td>\n",
       "      <td>616688</td>\n",
       "    </tr>\n",
       "    <tr>\n",
       "      <td>16378</td>\n",
       "      <td>2021-06-24</td>\n",
       "      <td>Tripura</td>\n",
       "      <td>58978</td>\n",
       "      <td>660</td>\n",
       "      <td>63499</td>\n",
       "    </tr>\n",
       "    <tr>\n",
       "      <td>16379</td>\n",
       "      <td>2021-06-24</td>\n",
       "      <td>Uttarakhand</td>\n",
       "      <td>329182</td>\n",
       "      <td>7068</td>\n",
       "      <td>339127</td>\n",
       "    </tr>\n",
       "    <tr>\n",
       "      <td>16380</td>\n",
       "      <td>2021-06-24</td>\n",
       "      <td>Uttar Pradesh</td>\n",
       "      <td>1678788</td>\n",
       "      <td>22336</td>\n",
       "      <td>1704790</td>\n",
       "    </tr>\n",
       "    <tr>\n",
       "      <td>16381</td>\n",
       "      <td>2021-06-24</td>\n",
       "      <td>West Bengal</td>\n",
       "      <td>1447510</td>\n",
       "      <td>17475</td>\n",
       "      <td>1487363</td>\n",
       "    </tr>\n",
       "  </tbody>\n",
       "</table>\n",
       "</div>"
      ],
      "text/plain": [
       "            date                                     state    cured  deaths  \\\n",
       "16352 2021-06-24                              Chhattisgarh   971057   13407   \n",
       "16353 2021-06-24  Dadra and Nagar Haveli and Daman and Diu    10459       4   \n",
       "16354 2021-06-24                                     Delhi  1406629   24940   \n",
       "16355 2021-06-24                                       Goa   159419    3013   \n",
       "16356 2021-06-24                                   Gujarat   807911   10040   \n",
       "16357 2021-06-24                                   Haryana   756426    9314   \n",
       "16358 2021-06-24                          Himachal Pradesh   195301    3461   \n",
       "16359 2021-06-24                         Jammu and Kashmir   301973    4273   \n",
       "16360 2021-06-24                                 Jharkhand   338446    5104   \n",
       "16361 2021-06-24                                 Karnataka  2668705   34287   \n",
       "16362 2021-06-24                                    Kerala  2729967   12445   \n",
       "16363 2021-06-24                                    Ladakh    19341     202   \n",
       "16364 2021-06-24                               Lakshadweep     9172      47   \n",
       "16365 2021-06-24                            Madhya Pradesh   779177    8827   \n",
       "16366 2021-06-24                               Maharashtra  5753290  119303   \n",
       "16367 2021-06-24                                   Manipur    55257    1074   \n",
       "16368 2021-06-24                                 Meghalaya    41349     797   \n",
       "16369 2021-06-24                                   Mizoram    14096      86   \n",
       "16370 2021-06-24                                  Nagaland    22486     477   \n",
       "16371 2021-06-24                                    Odisha   853012    3717   \n",
       "16372 2021-06-24                                Puducherry   110838    1731   \n",
       "16373 2021-06-24                                    Punjab   572008   15923   \n",
       "16374 2021-06-24                                 Rajasthan   940465    8905   \n",
       "16375 2021-06-24                                    Sikkim    16903     296   \n",
       "16376 2021-06-24                                Tamil Nadu  2358785   31746   \n",
       "16377 2021-06-24                                 Telangana   596628    3598   \n",
       "16378 2021-06-24                                   Tripura    58978     660   \n",
       "16379 2021-06-24                               Uttarakhand   329182    7068   \n",
       "16380 2021-06-24                             Uttar Pradesh  1678788   22336   \n",
       "16381 2021-06-24                               West Bengal  1447510   17475   \n",
       "\n",
       "       confirmed  \n",
       "16352     992074  \n",
       "16353      10523  \n",
       "16354    1433366  \n",
       "16355     165197  \n",
       "16356     822758  \n",
       "16357     767900  \n",
       "16358     201049  \n",
       "16359     313028  \n",
       "16360     344914  \n",
       "16361    2819465  \n",
       "16362    2842247  \n",
       "16363      19881  \n",
       "16364       9559  \n",
       "16365     789499  \n",
       "16366    5997587  \n",
       "16367      65622  \n",
       "16368      46458  \n",
       "16369      18624  \n",
       "16370      24541  \n",
       "16371     886946  \n",
       "16372     115627  \n",
       "16373     593572  \n",
       "16374     951548  \n",
       "16375      19589  \n",
       "16376    2443415  \n",
       "16377     616688  \n",
       "16378      63499  \n",
       "16379     339127  \n",
       "16380    1704790  \n",
       "16381    1487363  "
      ]
     },
     "execution_count": 6,
     "metadata": {},
     "output_type": "execute_result"
    }
   ],
   "source": [
    "covid.tail(30)"
   ]
  },
  {
   "cell_type": "markdown",
   "metadata": {},
   "source": [
    "### covid cases in Delhi \n",
    "\n",
    "https://www.google.com/search?q=total+cases+of+corona+in+delhi&rlz=1C1CHBF_enIN903IN903&oq=total+cases+of+&aqs=chrome.1.0i20i263i433j0i433j0i20i263i433j0i433j69i57j0i433j0l2j0i131i433j0.8313j0j7&sourceid=chrome&ie=UTF-8\n",
    "\n"
   ]
  },
  {
   "cell_type": "code",
   "execution_count": 7,
   "metadata": {},
   "outputs": [],
   "source": [
    "today = covid[covid.date=='2021-06-24']   # extracting covid data of 2021-06-24 in today object"
   ]
  },
  {
   "cell_type": "code",
   "execution_count": 8,
   "metadata": {},
   "outputs": [
    {
     "data": {
      "text/plain": [
       "(36, 5)"
      ]
     },
     "execution_count": 8,
     "metadata": {},
     "output_type": "execute_result"
    }
   ],
   "source": [
    "today.shape  # checking that how many records are present for today object"
   ]
  },
  {
   "cell_type": "code",
   "execution_count": 9,
   "metadata": {},
   "outputs": [
    {
     "data": {
      "text/html": [
       "<div>\n",
       "<style scoped>\n",
       "    .dataframe tbody tr th:only-of-type {\n",
       "        vertical-align: middle;\n",
       "    }\n",
       "\n",
       "    .dataframe tbody tr th {\n",
       "        vertical-align: top;\n",
       "    }\n",
       "\n",
       "    .dataframe thead th {\n",
       "        text-align: right;\n",
       "    }\n",
       "</style>\n",
       "<table border=\"1\" class=\"dataframe\">\n",
       "  <thead>\n",
       "    <tr style=\"text-align: right;\">\n",
       "      <th></th>\n",
       "      <th>date</th>\n",
       "      <th>state</th>\n",
       "      <th>cured</th>\n",
       "      <th>deaths</th>\n",
       "      <th>confirmed</th>\n",
       "    </tr>\n",
       "  </thead>\n",
       "  <tbody>\n",
       "    <tr>\n",
       "      <td>16346</td>\n",
       "      <td>2021-06-24</td>\n",
       "      <td>Andaman and Nicobar Islands</td>\n",
       "      <td>7210</td>\n",
       "      <td>127</td>\n",
       "      <td>7438</td>\n",
       "    </tr>\n",
       "    <tr>\n",
       "      <td>16347</td>\n",
       "      <td>2021-06-24</td>\n",
       "      <td>Andhra Pradesh</td>\n",
       "      <td>1798380</td>\n",
       "      <td>12452</td>\n",
       "      <td>1862036</td>\n",
       "    </tr>\n",
       "    <tr>\n",
       "      <td>16348</td>\n",
       "      <td>2021-06-24</td>\n",
       "      <td>Arunachal Pradesh</td>\n",
       "      <td>31189</td>\n",
       "      <td>160</td>\n",
       "      <td>33916</td>\n",
       "    </tr>\n",
       "    <tr>\n",
       "      <td>16349</td>\n",
       "      <td>2021-06-24</td>\n",
       "      <td>Assam</td>\n",
       "      <td>454726</td>\n",
       "      <td>4310</td>\n",
       "      <td>490907</td>\n",
       "    </tr>\n",
       "    <tr>\n",
       "      <td>16350</td>\n",
       "      <td>2021-06-24</td>\n",
       "      <td>Bihar</td>\n",
       "      <td>708231</td>\n",
       "      <td>9569</td>\n",
       "      <td>720505</td>\n",
       "    </tr>\n",
       "    <tr>\n",
       "      <td>16351</td>\n",
       "      <td>2021-06-24</td>\n",
       "      <td>Chandigarh</td>\n",
       "      <td>60446</td>\n",
       "      <td>807</td>\n",
       "      <td>61520</td>\n",
       "    </tr>\n",
       "    <tr>\n",
       "      <td>16352</td>\n",
       "      <td>2021-06-24</td>\n",
       "      <td>Chhattisgarh</td>\n",
       "      <td>971057</td>\n",
       "      <td>13407</td>\n",
       "      <td>992074</td>\n",
       "    </tr>\n",
       "    <tr>\n",
       "      <td>16353</td>\n",
       "      <td>2021-06-24</td>\n",
       "      <td>Dadra and Nagar Haveli and Daman and Diu</td>\n",
       "      <td>10459</td>\n",
       "      <td>4</td>\n",
       "      <td>10523</td>\n",
       "    </tr>\n",
       "    <tr>\n",
       "      <td>16354</td>\n",
       "      <td>2021-06-24</td>\n",
       "      <td>Delhi</td>\n",
       "      <td>1406629</td>\n",
       "      <td>24940</td>\n",
       "      <td>1433366</td>\n",
       "    </tr>\n",
       "    <tr>\n",
       "      <td>16355</td>\n",
       "      <td>2021-06-24</td>\n",
       "      <td>Goa</td>\n",
       "      <td>159419</td>\n",
       "      <td>3013</td>\n",
       "      <td>165197</td>\n",
       "    </tr>\n",
       "  </tbody>\n",
       "</table>\n",
       "</div>"
      ],
      "text/plain": [
       "            date                                     state    cured  deaths  \\\n",
       "16346 2021-06-24               Andaman and Nicobar Islands     7210     127   \n",
       "16347 2021-06-24                            Andhra Pradesh  1798380   12452   \n",
       "16348 2021-06-24                         Arunachal Pradesh    31189     160   \n",
       "16349 2021-06-24                                     Assam   454726    4310   \n",
       "16350 2021-06-24                                     Bihar   708231    9569   \n",
       "16351 2021-06-24                                Chandigarh    60446     807   \n",
       "16352 2021-06-24                              Chhattisgarh   971057   13407   \n",
       "16353 2021-06-24  Dadra and Nagar Haveli and Daman and Diu    10459       4   \n",
       "16354 2021-06-24                                     Delhi  1406629   24940   \n",
       "16355 2021-06-24                                       Goa   159419    3013   \n",
       "\n",
       "       confirmed  \n",
       "16346       7438  \n",
       "16347    1862036  \n",
       "16348      33916  \n",
       "16349     490907  \n",
       "16350     720505  \n",
       "16351      61520  \n",
       "16352     992074  \n",
       "16353      10523  \n",
       "16354    1433366  \n",
       "16355     165197  "
      ]
     },
     "execution_count": 9,
     "metadata": {},
     "output_type": "execute_result"
    }
   ],
   "source": [
    "today.head(10)"
   ]
  },
  {
   "cell_type": "markdown",
   "metadata": {},
   "source": [
    "now we will see the most affected states/Union territories"
   ]
  },
  {
   "cell_type": "code",
   "execution_count": 10,
   "metadata": {},
   "outputs": [],
   "source": [
    "# sorting w.r.t to confirmed cases\n",
    "max_confirmed_cases=today.sort_values(by='confirmed',ascending=False)"
   ]
  },
  {
   "cell_type": "code",
   "execution_count": 11,
   "metadata": {},
   "outputs": [
    {
     "data": {
      "text/html": [
       "<div>\n",
       "<style scoped>\n",
       "    .dataframe tbody tr th:only-of-type {\n",
       "        vertical-align: middle;\n",
       "    }\n",
       "\n",
       "    .dataframe tbody tr th {\n",
       "        vertical-align: top;\n",
       "    }\n",
       "\n",
       "    .dataframe thead th {\n",
       "        text-align: right;\n",
       "    }\n",
       "</style>\n",
       "<table border=\"1\" class=\"dataframe\">\n",
       "  <thead>\n",
       "    <tr style=\"text-align: right;\">\n",
       "      <th></th>\n",
       "      <th>date</th>\n",
       "      <th>state</th>\n",
       "      <th>cured</th>\n",
       "      <th>deaths</th>\n",
       "      <th>confirmed</th>\n",
       "    </tr>\n",
       "  </thead>\n",
       "  <tbody>\n",
       "    <tr>\n",
       "      <td>16366</td>\n",
       "      <td>2021-06-24</td>\n",
       "      <td>Maharashtra</td>\n",
       "      <td>5753290</td>\n",
       "      <td>119303</td>\n",
       "      <td>5997587</td>\n",
       "    </tr>\n",
       "    <tr>\n",
       "      <td>16362</td>\n",
       "      <td>2021-06-24</td>\n",
       "      <td>Kerala</td>\n",
       "      <td>2729967</td>\n",
       "      <td>12445</td>\n",
       "      <td>2842247</td>\n",
       "    </tr>\n",
       "    <tr>\n",
       "      <td>16361</td>\n",
       "      <td>2021-06-24</td>\n",
       "      <td>Karnataka</td>\n",
       "      <td>2668705</td>\n",
       "      <td>34287</td>\n",
       "      <td>2819465</td>\n",
       "    </tr>\n",
       "    <tr>\n",
       "      <td>16376</td>\n",
       "      <td>2021-06-24</td>\n",
       "      <td>Tamil Nadu</td>\n",
       "      <td>2358785</td>\n",
       "      <td>31746</td>\n",
       "      <td>2443415</td>\n",
       "    </tr>\n",
       "    <tr>\n",
       "      <td>16347</td>\n",
       "      <td>2021-06-24</td>\n",
       "      <td>Andhra Pradesh</td>\n",
       "      <td>1798380</td>\n",
       "      <td>12452</td>\n",
       "      <td>1862036</td>\n",
       "    </tr>\n",
       "  </tbody>\n",
       "</table>\n",
       "</div>"
      ],
      "text/plain": [
       "            date           state    cured  deaths  confirmed\n",
       "16366 2021-06-24     Maharashtra  5753290  119303    5997587\n",
       "16362 2021-06-24          Kerala  2729967   12445    2842247\n",
       "16361 2021-06-24       Karnataka  2668705   34287    2819465\n",
       "16376 2021-06-24      Tamil Nadu  2358785   31746    2443415\n",
       "16347 2021-06-24  Andhra Pradesh  1798380   12452    1862036"
      ]
     },
     "execution_count": 11,
     "metadata": {},
     "output_type": "execute_result"
    }
   ],
   "source": [
    "max_confirmed_cases.head()"
   ]
  },
  {
   "cell_type": "code",
   "execution_count": 12,
   "metadata": {},
   "outputs": [],
   "source": [
    "top_states_confirmed = max_confirmed_cases[0:5]"
   ]
  },
  {
   "cell_type": "code",
   "execution_count": 13,
   "metadata": {},
   "outputs": [
    {
     "data": {
      "text/plain": [
       "<function matplotlib.pyplot.show(*args, **kw)>"
      ]
     },
     "execution_count": 13,
     "metadata": {},
     "output_type": "execute_result"
    },
    {
     "data": {
      "image/png": "[encoded data removed]",
      "text/plain": [
       "<Figure size 720x720 with 1 Axes>"
      ]
     },
     "metadata": {},
     "output_type": "display_data"
    }
   ],
   "source": [
    "sns.set(rc={'figure.figsize':(10,10)})\n",
    "sns.barplot(x='state',y='confirmed',data=top_states_confirmed,hue=\"state\")  # hue is used to color bars\n",
    "plt.show"
   ]
  },
  {
   "cell_type": "code",
   "execution_count": 14,
   "metadata": {},
   "outputs": [],
   "source": [
    "max_death_cases=today.sort_values(by=\"deaths\",ascending=False)"
   ]
  },
  {
   "cell_type": "code",
   "execution_count": 15,
   "metadata": {},
   "outputs": [
    {
     "data": {
      "text/html": [
       "<div>\n",
       "<style scoped>\n",
       "    .dataframe tbody tr th:only-of-type {\n",
       "        vertical-align: middle;\n",
       "    }\n",
       "\n",
       "    .dataframe tbody tr th {\n",
       "        vertical-align: top;\n",
       "    }\n",
       "\n",
       "    .dataframe thead th {\n",
       "        text-align: right;\n",
       "    }\n",
       "</style>\n",
       "<table border=\"1\" class=\"dataframe\">\n",
       "  <thead>\n",
       "    <tr style=\"text-align: right;\">\n",
       "      <th></th>\n",
       "      <th>date</th>\n",
       "      <th>state</th>\n",
       "      <th>cured</th>\n",
       "      <th>deaths</th>\n",
       "      <th>confirmed</th>\n",
       "    </tr>\n",
       "  </thead>\n",
       "  <tbody>\n",
       "    <tr>\n",
       "      <td>16366</td>\n",
       "      <td>2021-06-24</td>\n",
       "      <td>Maharashtra</td>\n",
       "      <td>5753290</td>\n",
       "      <td>119303</td>\n",
       "      <td>5997587</td>\n",
       "    </tr>\n",
       "    <tr>\n",
       "      <td>16361</td>\n",
       "      <td>2021-06-24</td>\n",
       "      <td>Karnataka</td>\n",
       "      <td>2668705</td>\n",
       "      <td>34287</td>\n",
       "      <td>2819465</td>\n",
       "    </tr>\n",
       "    <tr>\n",
       "      <td>16376</td>\n",
       "      <td>2021-06-24</td>\n",
       "      <td>Tamil Nadu</td>\n",
       "      <td>2358785</td>\n",
       "      <td>31746</td>\n",
       "      <td>2443415</td>\n",
       "    </tr>\n",
       "    <tr>\n",
       "      <td>16354</td>\n",
       "      <td>2021-06-24</td>\n",
       "      <td>Delhi</td>\n",
       "      <td>1406629</td>\n",
       "      <td>24940</td>\n",
       "      <td>1433366</td>\n",
       "    </tr>\n",
       "    <tr>\n",
       "      <td>16380</td>\n",
       "      <td>2021-06-24</td>\n",
       "      <td>Uttar Pradesh</td>\n",
       "      <td>1678788</td>\n",
       "      <td>22336</td>\n",
       "      <td>1704790</td>\n",
       "    </tr>\n",
       "  </tbody>\n",
       "</table>\n",
       "</div>"
      ],
      "text/plain": [
       "            date          state    cured  deaths  confirmed\n",
       "16366 2021-06-24    Maharashtra  5753290  119303    5997587\n",
       "16361 2021-06-24      Karnataka  2668705   34287    2819465\n",
       "16376 2021-06-24     Tamil Nadu  2358785   31746    2443415\n",
       "16354 2021-06-24          Delhi  1406629   24940    1433366\n",
       "16380 2021-06-24  Uttar Pradesh  1678788   22336    1704790"
      ]
     },
     "execution_count": 15,
     "metadata": {},
     "output_type": "execute_result"
    }
   ],
   "source": [
    "max_death_cases.head()"
   ]
  },
  {
   "cell_type": "code",
   "execution_count": 16,
   "metadata": {},
   "outputs": [],
   "source": [
    "top_states_death= max_death_cases[0:5]"
   ]
  },
  {
   "cell_type": "code",
   "execution_count": 17,
   "metadata": {},
   "outputs": [
    {
     "data": {
      "text/plain": [
       "<function matplotlib.pyplot.show(*args, **kw)>"
      ]
     },
     "execution_count": 17,
     "metadata": {},
     "output_type": "execute_result"
    },
    {
     "data": {
      "image/png": "[encoded data removed]",
      "text/plain": [
       "<Figure size 720x720 with 1 Axes>"
      ]
     },
     "metadata": {},
     "output_type": "display_data"
    }
   ],
   "source": [
    "sns.set(rc={'figure.figsize':(10,10)})\n",
    "sns.barplot(x='state',y='deaths',data=top_states_death,hue=\"state\")  \n",
    "plt.show"
   ]
  },
  {
   "cell_type": "code",
   "execution_count": 18,
   "metadata": {},
   "outputs": [],
   "source": [
    "max_cured_cases=today.sort_values(by=\"cured\",ascending=False)"
   ]
  },
  {
   "cell_type": "code",
   "execution_count": 19,
   "metadata": {
    "scrolled": false
   },
   "outputs": [
    {
     "data": {
      "text/html": [
       "<div>\n",
       "<style scoped>\n",
       "    .dataframe tbody tr th:only-of-type {\n",
       "        vertical-align: middle;\n",
       "    }\n",
       "\n",
       "    .dataframe tbody tr th {\n",
       "        vertical-align: top;\n",
       "    }\n",
       "\n",
       "    .dataframe thead th {\n",
       "        text-align: right;\n",
       "    }\n",
       "</style>\n",
       "<table border=\"1\" class=\"dataframe\">\n",
       "  <thead>\n",
       "    <tr style=\"text-align: right;\">\n",
       "      <th></th>\n",
       "      <th>date</th>\n",
       "      <th>state</th>\n",
       "      <th>cured</th>\n",
       "      <th>deaths</th>\n",
       "      <th>confirmed</th>\n",
       "    </tr>\n",
       "  </thead>\n",
       "  <tbody>\n",
       "    <tr>\n",
       "      <td>16366</td>\n",
       "      <td>2021-06-24</td>\n",
       "      <td>Maharashtra</td>\n",
       "      <td>5753290</td>\n",
       "      <td>119303</td>\n",
       "      <td>5997587</td>\n",
       "    </tr>\n",
       "    <tr>\n",
       "      <td>16362</td>\n",
       "      <td>2021-06-24</td>\n",
       "      <td>Kerala</td>\n",
       "      <td>2729967</td>\n",
       "      <td>12445</td>\n",
       "      <td>2842247</td>\n",
       "    </tr>\n",
       "    <tr>\n",
       "      <td>16361</td>\n",
       "      <td>2021-06-24</td>\n",
       "      <td>Karnataka</td>\n",
       "      <td>2668705</td>\n",
       "      <td>34287</td>\n",
       "      <td>2819465</td>\n",
       "    </tr>\n",
       "    <tr>\n",
       "      <td>16376</td>\n",
       "      <td>2021-06-24</td>\n",
       "      <td>Tamil Nadu</td>\n",
       "      <td>2358785</td>\n",
       "      <td>31746</td>\n",
       "      <td>2443415</td>\n",
       "    </tr>\n",
       "    <tr>\n",
       "      <td>16347</td>\n",
       "      <td>2021-06-24</td>\n",
       "      <td>Andhra Pradesh</td>\n",
       "      <td>1798380</td>\n",
       "      <td>12452</td>\n",
       "      <td>1862036</td>\n",
       "    </tr>\n",
       "  </tbody>\n",
       "</table>\n",
       "</div>"
      ],
      "text/plain": [
       "            date           state    cured  deaths  confirmed\n",
       "16366 2021-06-24     Maharashtra  5753290  119303    5997587\n",
       "16362 2021-06-24          Kerala  2729967   12445    2842247\n",
       "16361 2021-06-24       Karnataka  2668705   34287    2819465\n",
       "16376 2021-06-24      Tamil Nadu  2358785   31746    2443415\n",
       "16347 2021-06-24  Andhra Pradesh  1798380   12452    1862036"
      ]
     },
     "execution_count": 19,
     "metadata": {},
     "output_type": "execute_result"
    }
   ],
   "source": [
    "max_cured_cases.head()"
   ]
  },
  {
   "cell_type": "code",
   "execution_count": 20,
   "metadata": {},
   "outputs": [],
   "source": [
    "top_states_cured=max_cured_cases[0:5]"
   ]
  },
  {
   "cell_type": "code",
   "execution_count": 21,
   "metadata": {},
   "outputs": [
    {
     "data": {
      "text/plain": [
       "<function matplotlib.pyplot.show(*args, **kw)>"
      ]
     },
     "execution_count": 21,
     "metadata": {},
     "output_type": "execute_result"
    },
    {
     "data": {
      "image/png": "[encoded data removed]",
      "text/plain": [
       "<Figure size 720x720 with 1 Axes>"
      ]
     },
     "metadata": {},
     "output_type": "display_data"
    }
   ],
   "source": [
    "sns.set(rc={'figure.figsize':(10,10)})\n",
    "sns.barplot(x=\"state\",y=\"cured\",data=top_states_cured,hue=\"state\")\n",
    "plt.show"
   ]
  },
  {
   "cell_type": "markdown",
   "metadata": {},
   "source": [
    "## Maharashtra"
   ]
  },
  {
   "cell_type": "code",
   "execution_count": 22,
   "metadata": {},
   "outputs": [],
   "source": [
    "MH=covid[covid.state==\"Maharashtra\"]"
   ]
  },
  {
   "cell_type": "code",
   "execution_count": 23,
   "metadata": {},
   "outputs": [
    {
     "data": {
      "text/plain": [
       "(473, 5)"
      ]
     },
     "execution_count": 23,
     "metadata": {},
     "output_type": "execute_result"
    }
   ],
   "source": [
    "MH.shape"
   ]
  },
  {
   "cell_type": "code",
   "execution_count": 24,
   "metadata": {},
   "outputs": [
    {
     "data": {
      "text/html": [
       "<div>\n",
       "<style scoped>\n",
       "    .dataframe tbody tr th:only-of-type {\n",
       "        vertical-align: middle;\n",
       "    }\n",
       "\n",
       "    .dataframe tbody tr th {\n",
       "        vertical-align: top;\n",
       "    }\n",
       "\n",
       "    .dataframe thead th {\n",
       "        text-align: right;\n",
       "    }\n",
       "</style>\n",
       "<table border=\"1\" class=\"dataframe\">\n",
       "  <thead>\n",
       "    <tr style=\"text-align: right;\">\n",
       "      <th></th>\n",
       "      <th>date</th>\n",
       "      <th>state</th>\n",
       "      <th>cured</th>\n",
       "      <th>deaths</th>\n",
       "      <th>confirmed</th>\n",
       "    </tr>\n",
       "  </thead>\n",
       "  <tbody>\n",
       "    <tr>\n",
       "      <td>76</td>\n",
       "      <td>2020-03-09</td>\n",
       "      <td>Maharashtra</td>\n",
       "      <td>0</td>\n",
       "      <td>0</td>\n",
       "      <td>2</td>\n",
       "    </tr>\n",
       "    <tr>\n",
       "      <td>91</td>\n",
       "      <td>2020-03-10</td>\n",
       "      <td>Maharashtra</td>\n",
       "      <td>0</td>\n",
       "      <td>0</td>\n",
       "      <td>5</td>\n",
       "    </tr>\n",
       "    <tr>\n",
       "      <td>97</td>\n",
       "      <td>2020-03-11</td>\n",
       "      <td>Maharashtra</td>\n",
       "      <td>0</td>\n",
       "      <td>0</td>\n",
       "      <td>2</td>\n",
       "    </tr>\n",
       "    <tr>\n",
       "      <td>120</td>\n",
       "      <td>2020-03-12</td>\n",
       "      <td>Maharashtra</td>\n",
       "      <td>0</td>\n",
       "      <td>0</td>\n",
       "      <td>11</td>\n",
       "    </tr>\n",
       "    <tr>\n",
       "      <td>133</td>\n",
       "      <td>2020-03-13</td>\n",
       "      <td>Maharashtra</td>\n",
       "      <td>0</td>\n",
       "      <td>0</td>\n",
       "      <td>14</td>\n",
       "    </tr>\n",
       "  </tbody>\n",
       "</table>\n",
       "</div>"
      ],
      "text/plain": [
       "          date        state  cured  deaths  confirmed\n",
       "76  2020-03-09  Maharashtra      0       0          2\n",
       "91  2020-03-10  Maharashtra      0       0          5\n",
       "97  2020-03-11  Maharashtra      0       0          2\n",
       "120 2020-03-12  Maharashtra      0       0         11\n",
       "133 2020-03-13  Maharashtra      0       0         14"
      ]
     },
     "execution_count": 24,
     "metadata": {},
     "output_type": "execute_result"
    }
   ],
   "source": [
    "MH.head()"
   ]
  },
  {
   "cell_type": "markdown",
   "metadata": {},
   "source": [
    "From above we can notice that our first case in Maharashtra was reported on 9th march 2020."
   ]
  },
  {
   "cell_type": "code",
   "execution_count": 25,
   "metadata": {
    "scrolled": true
   },
   "outputs": [
    {
     "data": {
      "text/html": [
       "<div>\n",
       "<style scoped>\n",
       "    .dataframe tbody tr th:only-of-type {\n",
       "        vertical-align: middle;\n",
       "    }\n",
       "\n",
       "    .dataframe tbody tr th {\n",
       "        vertical-align: top;\n",
       "    }\n",
       "\n",
       "    .dataframe thead th {\n",
       "        text-align: right;\n",
       "    }\n",
       "</style>\n",
       "<table border=\"1\" class=\"dataframe\">\n",
       "  <thead>\n",
       "    <tr style=\"text-align: right;\">\n",
       "      <th></th>\n",
       "      <th>date</th>\n",
       "      <th>state</th>\n",
       "      <th>cured</th>\n",
       "      <th>deaths</th>\n",
       "      <th>confirmed</th>\n",
       "    </tr>\n",
       "  </thead>\n",
       "  <tbody>\n",
       "    <tr>\n",
       "      <td>16222</td>\n",
       "      <td>2021-06-20</td>\n",
       "      <td>Maharashtra</td>\n",
       "      <td>5710356</td>\n",
       "      <td>117356</td>\n",
       "      <td>5963420</td>\n",
       "    </tr>\n",
       "    <tr>\n",
       "      <td>16258</td>\n",
       "      <td>2021-06-21</td>\n",
       "      <td>Maharashtra</td>\n",
       "      <td>5719457</td>\n",
       "      <td>117961</td>\n",
       "      <td>5972781</td>\n",
       "    </tr>\n",
       "    <tr>\n",
       "      <td>16294</td>\n",
       "      <td>2021-06-22</td>\n",
       "      <td>Maharashtra</td>\n",
       "      <td>5733215</td>\n",
       "      <td>118313</td>\n",
       "      <td>5979051</td>\n",
       "    </tr>\n",
       "    <tr>\n",
       "      <td>16330</td>\n",
       "      <td>2021-06-23</td>\n",
       "      <td>Maharashtra</td>\n",
       "      <td>5742258</td>\n",
       "      <td>118795</td>\n",
       "      <td>5987521</td>\n",
       "    </tr>\n",
       "    <tr>\n",
       "      <td>16366</td>\n",
       "      <td>2021-06-24</td>\n",
       "      <td>Maharashtra</td>\n",
       "      <td>5753290</td>\n",
       "      <td>119303</td>\n",
       "      <td>5997587</td>\n",
       "    </tr>\n",
       "  </tbody>\n",
       "</table>\n",
       "</div>"
      ],
      "text/plain": [
       "            date        state    cured  deaths  confirmed\n",
       "16222 2021-06-20  Maharashtra  5710356  117356    5963420\n",
       "16258 2021-06-21  Maharashtra  5719457  117961    5972781\n",
       "16294 2021-06-22  Maharashtra  5733215  118313    5979051\n",
       "16330 2021-06-23  Maharashtra  5742258  118795    5987521\n",
       "16366 2021-06-24  Maharashtra  5753290  119303    5997587"
      ]
     },
     "execution_count": 25,
     "metadata": {},
     "output_type": "execute_result"
    }
   ],
   "source": [
    "MH.tail()"
   ]
  },
  {
   "cell_type": "code",
   "execution_count": 26,
   "metadata": {},
   "outputs": [],
   "source": [
    "from pandas.plotting import register_matplotlib_converters\n",
    "register_matplotlib_converters()"
   ]
  },
  {
   "cell_type": "code",
   "execution_count": 27,
   "metadata": {},
   "outputs": [
    {
     "data": {
      "text/plain": [
       "<function matplotlib.pyplot.show(*args, **kw)>"
      ]
     },
     "execution_count": 27,
     "metadata": {},
     "output_type": "execute_result"
    },
    {
     "data": {
      "image/png": "[encoded data removed]",
      "text/plain": [
       "<Figure size 720x720 with 1 Axes>"
      ]
     },
     "metadata": {},
     "output_type": "display_data"
    }
   ],
   "source": [
    "sns.set(rc={\"figure.figsize\":(10,10)})\n",
    "sns.lineplot(x=\"date\",y=\"confirmed\",data=MH,color=\"g\")\n",
    "plt.show"
   ]
  },
  {
   "cell_type": "markdown",
   "metadata": {},
   "source": [
    "From the curve we can see that due to second wave there was increase in no. of cases."
   ]
  },
  {
   "cell_type": "code",
   "execution_count": 28,
   "metadata": {},
   "outputs": [
    {
     "data": {
      "text/plain": [
       "<function matplotlib.pyplot.show(*args, **kw)>"
      ]
     },
     "execution_count": 28,
     "metadata": {},
     "output_type": "execute_result"
    },
    {
     "data": {
      "image/png": "[encoded data removed]",
      "text/plain": [
       "<Figure size 720x720 with 1 Axes>"
      ]
     },
     "metadata": {},
     "output_type": "display_data"
    }
   ],
   "source": [
    "sns.set(rc={\"figure.figsize\":(10,10)})\n",
    "sns.lineplot(x=\"date\",y=\"deaths\",data=MH,color=\"r\")\n",
    "plt.show"
   ]
  },
  {
   "cell_type": "markdown",
   "metadata": {},
   "source": [
    "## Delhi"
   ]
  },
  {
   "cell_type": "code",
   "execution_count": 29,
   "metadata": {},
   "outputs": [],
   "source": [
    "DEL=covid[covid.state=='Delhi']"
   ]
  },
  {
   "cell_type": "code",
   "execution_count": 30,
   "metadata": {},
   "outputs": [
    {
     "data": {
      "text/html": [
       "<div>\n",
       "<style scoped>\n",
       "    .dataframe tbody tr th:only-of-type {\n",
       "        vertical-align: middle;\n",
       "    }\n",
       "\n",
       "    .dataframe tbody tr th {\n",
       "        vertical-align: top;\n",
       "    }\n",
       "\n",
       "    .dataframe thead th {\n",
       "        text-align: right;\n",
       "    }\n",
       "</style>\n",
       "<table border=\"1\" class=\"dataframe\">\n",
       "  <thead>\n",
       "    <tr style=\"text-align: right;\">\n",
       "      <th></th>\n",
       "      <th>date</th>\n",
       "      <th>state</th>\n",
       "      <th>cured</th>\n",
       "      <th>deaths</th>\n",
       "      <th>confirmed</th>\n",
       "    </tr>\n",
       "  </thead>\n",
       "  <tbody>\n",
       "    <tr>\n",
       "      <td>34</td>\n",
       "      <td>2020-03-02</td>\n",
       "      <td>Delhi</td>\n",
       "      <td>0</td>\n",
       "      <td>0</td>\n",
       "      <td>1</td>\n",
       "    </tr>\n",
       "    <tr>\n",
       "      <td>38</td>\n",
       "      <td>2020-03-03</td>\n",
       "      <td>Delhi</td>\n",
       "      <td>0</td>\n",
       "      <td>0</td>\n",
       "      <td>1</td>\n",
       "    </tr>\n",
       "    <tr>\n",
       "      <td>42</td>\n",
       "      <td>2020-03-04</td>\n",
       "      <td>Delhi</td>\n",
       "      <td>0</td>\n",
       "      <td>0</td>\n",
       "      <td>1</td>\n",
       "    </tr>\n",
       "    <tr>\n",
       "      <td>45</td>\n",
       "      <td>2020-03-05</td>\n",
       "      <td>Delhi</td>\n",
       "      <td>0</td>\n",
       "      <td>0</td>\n",
       "      <td>2</td>\n",
       "    </tr>\n",
       "    <tr>\n",
       "      <td>51</td>\n",
       "      <td>2020-03-06</td>\n",
       "      <td>Delhi</td>\n",
       "      <td>0</td>\n",
       "      <td>0</td>\n",
       "      <td>3</td>\n",
       "    </tr>\n",
       "  </tbody>\n",
       "</table>\n",
       "</div>"
      ],
      "text/plain": [
       "         date  state  cured  deaths  confirmed\n",
       "34 2020-03-02  Delhi      0       0          1\n",
       "38 2020-03-03  Delhi      0       0          1\n",
       "42 2020-03-04  Delhi      0       0          1\n",
       "45 2020-03-05  Delhi      0       0          2\n",
       "51 2020-03-06  Delhi      0       0          3"
      ]
     },
     "execution_count": 30,
     "metadata": {},
     "output_type": "execute_result"
    }
   ],
   "source": [
    "DEL.head()"
   ]
  },
  {
   "cell_type": "code",
   "execution_count": 31,
   "metadata": {},
   "outputs": [
    {
     "data": {
      "text/html": [
       "<div>\n",
       "<style scoped>\n",
       "    .dataframe tbody tr th:only-of-type {\n",
       "        vertical-align: middle;\n",
       "    }\n",
       "\n",
       "    .dataframe tbody tr th {\n",
       "        vertical-align: top;\n",
       "    }\n",
       "\n",
       "    .dataframe thead th {\n",
       "        text-align: right;\n",
       "    }\n",
       "</style>\n",
       "<table border=\"1\" class=\"dataframe\">\n",
       "  <thead>\n",
       "    <tr style=\"text-align: right;\">\n",
       "      <th></th>\n",
       "      <th>date</th>\n",
       "      <th>state</th>\n",
       "      <th>cured</th>\n",
       "      <th>deaths</th>\n",
       "      <th>confirmed</th>\n",
       "    </tr>\n",
       "  </thead>\n",
       "  <tbody>\n",
       "    <tr>\n",
       "      <td>16210</td>\n",
       "      <td>2021-06-20</td>\n",
       "      <td>Delhi</td>\n",
       "      <td>1404889</td>\n",
       "      <td>24907</td>\n",
       "      <td>1432168</td>\n",
       "    </tr>\n",
       "    <tr>\n",
       "      <td>16246</td>\n",
       "      <td>2021-06-21</td>\n",
       "      <td>Delhi</td>\n",
       "      <td>1405287</td>\n",
       "      <td>24914</td>\n",
       "      <td>1432292</td>\n",
       "    </tr>\n",
       "    <tr>\n",
       "      <td>16282</td>\n",
       "      <td>2021-06-22</td>\n",
       "      <td>Delhi</td>\n",
       "      <td>1405460</td>\n",
       "      <td>24925</td>\n",
       "      <td>1432381</td>\n",
       "    </tr>\n",
       "    <tr>\n",
       "      <td>16318</td>\n",
       "      <td>2021-06-23</td>\n",
       "      <td>Delhi</td>\n",
       "      <td>1405927</td>\n",
       "      <td>24933</td>\n",
       "      <td>1432778</td>\n",
       "    </tr>\n",
       "    <tr>\n",
       "      <td>16354</td>\n",
       "      <td>2021-06-24</td>\n",
       "      <td>Delhi</td>\n",
       "      <td>1406629</td>\n",
       "      <td>24940</td>\n",
       "      <td>1433366</td>\n",
       "    </tr>\n",
       "  </tbody>\n",
       "</table>\n",
       "</div>"
      ],
      "text/plain": [
       "            date  state    cured  deaths  confirmed\n",
       "16210 2021-06-20  Delhi  1404889   24907    1432168\n",
       "16246 2021-06-21  Delhi  1405287   24914    1432292\n",
       "16282 2021-06-22  Delhi  1405460   24925    1432381\n",
       "16318 2021-06-23  Delhi  1405927   24933    1432778\n",
       "16354 2021-06-24  Delhi  1406629   24940    1433366"
      ]
     },
     "execution_count": 31,
     "metadata": {},
     "output_type": "execute_result"
    }
   ],
   "source": [
    "DEL.tail()"
   ]
  },
  {
   "cell_type": "code",
   "execution_count": 32,
   "metadata": {},
   "outputs": [
    {
     "data": {
      "text/plain": [
       "<function matplotlib.pyplot.show(*args, **kw)>"
      ]
     },
     "execution_count": 32,
     "metadata": {},
     "output_type": "execute_result"
    },
    {
     "data": {
      "image/png": "[encoded data removed]",
      "text/plain": [
       "<Figure size 720x720 with 1 Axes>"
      ]
     },
     "metadata": {},
     "output_type": "display_data"
    }
   ],
   "source": [
    "sns.set(rc={\"figure.figsize\":(10,10)})\n",
    "sns.lineplot(x=\"date\",y=\"confirmed\",data=DEL,color=\"g\")\n",
    "plt.show"
   ]
  },
  {
   "cell_type": "code",
   "execution_count": 33,
   "metadata": {},
   "outputs": [
    {
     "data": {
      "text/plain": [
       "<function matplotlib.pyplot.show(*args, **kw)>"
      ]
     },
     "execution_count": 33,
     "metadata": {},
     "output_type": "execute_result"
    },
    {
     "data": {
      "image/png": "[encoded data removed]",
      "text/plain": [
       "<Figure size 720x720 with 1 Axes>"
      ]
     },
     "metadata": {},
     "output_type": "display_data"
    }
   ],
   "source": [
    "sns.set(rc={\"figure.figsize\":(10,10)})\n",
    "sns.lineplot(x=\"date\",y=\"deaths\",data=MH,color=\"r\")\n",
    "plt.show"
   ]
  },
  {
   "cell_type": "markdown",
   "metadata": {},
   "source": [
    "## Kerala"
   ]
  },
  {
   "cell_type": "code",
   "execution_count": 34,
   "metadata": {},
   "outputs": [],
   "source": [
    "Kerala=covid[covid.state==\"Kerala\"]"
   ]
  },
  {
   "cell_type": "code",
   "execution_count": 35,
   "metadata": {},
   "outputs": [
    {
     "data": {
      "text/html": [
       "<div>\n",
       "<style scoped>\n",
       "    .dataframe tbody tr th:only-of-type {\n",
       "        vertical-align: middle;\n",
       "    }\n",
       "\n",
       "    .dataframe tbody tr th {\n",
       "        vertical-align: top;\n",
       "    }\n",
       "\n",
       "    .dataframe thead th {\n",
       "        text-align: right;\n",
       "    }\n",
       "</style>\n",
       "<table border=\"1\" class=\"dataframe\">\n",
       "  <thead>\n",
       "    <tr style=\"text-align: right;\">\n",
       "      <th></th>\n",
       "      <th>date</th>\n",
       "      <th>state</th>\n",
       "      <th>cured</th>\n",
       "      <th>deaths</th>\n",
       "      <th>confirmed</th>\n",
       "    </tr>\n",
       "  </thead>\n",
       "  <tbody>\n",
       "    <tr>\n",
       "      <td>0</td>\n",
       "      <td>2020-01-30</td>\n",
       "      <td>Kerala</td>\n",
       "      <td>0</td>\n",
       "      <td>0</td>\n",
       "      <td>1</td>\n",
       "    </tr>\n",
       "    <tr>\n",
       "      <td>1</td>\n",
       "      <td>2020-01-31</td>\n",
       "      <td>Kerala</td>\n",
       "      <td>0</td>\n",
       "      <td>0</td>\n",
       "      <td>1</td>\n",
       "    </tr>\n",
       "    <tr>\n",
       "      <td>2</td>\n",
       "      <td>2020-02-01</td>\n",
       "      <td>Kerala</td>\n",
       "      <td>0</td>\n",
       "      <td>0</td>\n",
       "      <td>2</td>\n",
       "    </tr>\n",
       "    <tr>\n",
       "      <td>3</td>\n",
       "      <td>2020-02-02</td>\n",
       "      <td>Kerala</td>\n",
       "      <td>0</td>\n",
       "      <td>0</td>\n",
       "      <td>3</td>\n",
       "    </tr>\n",
       "    <tr>\n",
       "      <td>4</td>\n",
       "      <td>2020-02-03</td>\n",
       "      <td>Kerala</td>\n",
       "      <td>0</td>\n",
       "      <td>0</td>\n",
       "      <td>3</td>\n",
       "    </tr>\n",
       "  </tbody>\n",
       "</table>\n",
       "</div>"
      ],
      "text/plain": [
       "        date   state  cured  deaths  confirmed\n",
       "0 2020-01-30  Kerala      0       0          1\n",
       "1 2020-01-31  Kerala      0       0          1\n",
       "2 2020-02-01  Kerala      0       0          2\n",
       "3 2020-02-02  Kerala      0       0          3\n",
       "4 2020-02-03  Kerala      0       0          3"
      ]
     },
     "execution_count": 35,
     "metadata": {},
     "output_type": "execute_result"
    }
   ],
   "source": [
    "Kerala.head()"
   ]
  },
  {
   "cell_type": "code",
   "execution_count": 36,
   "metadata": {},
   "outputs": [
    {
     "data": {
      "text/html": [
       "<div>\n",
       "<style scoped>\n",
       "    .dataframe tbody tr th:only-of-type {\n",
       "        vertical-align: middle;\n",
       "    }\n",
       "\n",
       "    .dataframe tbody tr th {\n",
       "        vertical-align: top;\n",
       "    }\n",
       "\n",
       "    .dataframe thead th {\n",
       "        text-align: right;\n",
       "    }\n",
       "</style>\n",
       "<table border=\"1\" class=\"dataframe\">\n",
       "  <thead>\n",
       "    <tr style=\"text-align: right;\">\n",
       "      <th></th>\n",
       "      <th>date</th>\n",
       "      <th>state</th>\n",
       "      <th>cured</th>\n",
       "      <th>deaths</th>\n",
       "      <th>confirmed</th>\n",
       "    </tr>\n",
       "  </thead>\n",
       "  <tbody>\n",
       "    <tr>\n",
       "      <td>16218</td>\n",
       "      <td>2021-06-20</td>\n",
       "      <td>Kerala</td>\n",
       "      <td>2678499</td>\n",
       "      <td>11948</td>\n",
       "      <td>2797747</td>\n",
       "    </tr>\n",
       "    <tr>\n",
       "      <td>16254</td>\n",
       "      <td>2021-06-21</td>\n",
       "      <td>Kerala</td>\n",
       "      <td>2690958</td>\n",
       "      <td>12060</td>\n",
       "      <td>2809394</td>\n",
       "    </tr>\n",
       "    <tr>\n",
       "      <td>16290</td>\n",
       "      <td>2021-06-22</td>\n",
       "      <td>Kerala</td>\n",
       "      <td>2704554</td>\n",
       "      <td>12154</td>\n",
       "      <td>2816843</td>\n",
       "    </tr>\n",
       "    <tr>\n",
       "      <td>16326</td>\n",
       "      <td>2021-06-23</td>\n",
       "      <td>Kerala</td>\n",
       "      <td>2716284</td>\n",
       "      <td>12295</td>\n",
       "      <td>2829460</td>\n",
       "    </tr>\n",
       "    <tr>\n",
       "      <td>16362</td>\n",
       "      <td>2021-06-24</td>\n",
       "      <td>Kerala</td>\n",
       "      <td>2729967</td>\n",
       "      <td>12445</td>\n",
       "      <td>2842247</td>\n",
       "    </tr>\n",
       "  </tbody>\n",
       "</table>\n",
       "</div>"
      ],
      "text/plain": [
       "            date   state    cured  deaths  confirmed\n",
       "16218 2021-06-20  Kerala  2678499   11948    2797747\n",
       "16254 2021-06-21  Kerala  2690958   12060    2809394\n",
       "16290 2021-06-22  Kerala  2704554   12154    2816843\n",
       "16326 2021-06-23  Kerala  2716284   12295    2829460\n",
       "16362 2021-06-24  Kerala  2729967   12445    2842247"
      ]
     },
     "execution_count": 36,
     "metadata": {},
     "output_type": "execute_result"
    }
   ],
   "source": [
    "Kerala.tail()"
   ]
  },
  {
   "cell_type": "code",
   "execution_count": 37,
   "metadata": {},
   "outputs": [
    {
     "data": {
      "text/plain": [
       "<function matplotlib.pyplot.show(*args, **kw)>"
      ]
     },
     "execution_count": 37,
     "metadata": {},
     "output_type": "execute_result"
    },
    {
     "data": {
      "image/png": "[encoded data removed]",
      "text/plain": [
       "<Figure size 720x720 with 1 Axes>"
      ]
     },
     "metadata": {},
     "output_type": "display_data"
    }
   ],
   "source": [
    "sns.set(rc={\"figure.figsize\":(10,10)})\n",
    "sns.lineplot(x=\"date\",y=\"confirmed\",data=Kerala,color=\"g\")\n",
    "plt.show"
   ]
  },
  {
   "cell_type": "code",
   "execution_count": 38,
   "metadata": {},
   "outputs": [
    {
     "data": {
      "text/plain": [
       "<function matplotlib.pyplot.show(*args, **kw)>"
      ]
     },
     "execution_count": 38,
     "metadata": {},
     "output_type": "execute_result"
    },
    {
     "data": {
      "image/png": "[encoded data removed]",
      "text/plain": [
       "<Figure size 720x720 with 1 Axes>"
      ]
     },
     "metadata": {},
     "output_type": "display_data"
    }
   ],
   "source": [
    "sns.set(rc={\"figure.figsize\":(10,10)})\n",
    "sns.lineplot(x=\"date\",y=\"deaths\",data=Kerala,color=\"r\")\n",
    "plt.show"
   ]
  },
  {
   "cell_type": "markdown",
   "metadata": {},
   "source": [
    "## Andaman and Nicobar Islands"
   ]
  },
  {
   "cell_type": "code",
   "execution_count": 39,
   "metadata": {},
   "outputs": [],
   "source": [
    "AN=covid[covid.state==\"Andaman and Nicobar Islands\"]"
   ]
  },
  {
   "cell_type": "code",
   "execution_count": 40,
   "metadata": {},
   "outputs": [
    {
     "data": {
      "text/html": [
       "<div>\n",
       "<style scoped>\n",
       "    .dataframe tbody tr th:only-of-type {\n",
       "        vertical-align: middle;\n",
       "    }\n",
       "\n",
       "    .dataframe tbody tr th {\n",
       "        vertical-align: top;\n",
       "    }\n",
       "\n",
       "    .dataframe thead th {\n",
       "        text-align: right;\n",
       "    }\n",
       "</style>\n",
       "<table border=\"1\" class=\"dataframe\">\n",
       "  <thead>\n",
       "    <tr style=\"text-align: right;\">\n",
       "      <th></th>\n",
       "      <th>date</th>\n",
       "      <th>state</th>\n",
       "      <th>cured</th>\n",
       "      <th>deaths</th>\n",
       "      <th>confirmed</th>\n",
       "    </tr>\n",
       "  </thead>\n",
       "  <tbody>\n",
       "    <tr>\n",
       "      <td>365</td>\n",
       "      <td>2020-03-26</td>\n",
       "      <td>Andaman and Nicobar Islands</td>\n",
       "      <td>0</td>\n",
       "      <td>0</td>\n",
       "      <td>1</td>\n",
       "    </tr>\n",
       "    <tr>\n",
       "      <td>392</td>\n",
       "      <td>2020-03-27</td>\n",
       "      <td>Andaman and Nicobar Islands</td>\n",
       "      <td>0</td>\n",
       "      <td>0</td>\n",
       "      <td>1</td>\n",
       "    </tr>\n",
       "    <tr>\n",
       "      <td>420</td>\n",
       "      <td>2020-03-28</td>\n",
       "      <td>Andaman and Nicobar Islands</td>\n",
       "      <td>0</td>\n",
       "      <td>0</td>\n",
       "      <td>6</td>\n",
       "    </tr>\n",
       "    <tr>\n",
       "      <td>447</td>\n",
       "      <td>2020-03-29</td>\n",
       "      <td>Andaman and Nicobar Islands</td>\n",
       "      <td>0</td>\n",
       "      <td>0</td>\n",
       "      <td>9</td>\n",
       "    </tr>\n",
       "    <tr>\n",
       "      <td>474</td>\n",
       "      <td>2020-03-30</td>\n",
       "      <td>Andaman and Nicobar Islands</td>\n",
       "      <td>0</td>\n",
       "      <td>0</td>\n",
       "      <td>9</td>\n",
       "    </tr>\n",
       "  </tbody>\n",
       "</table>\n",
       "</div>"
      ],
      "text/plain": [
       "          date                        state  cured  deaths  confirmed\n",
       "365 2020-03-26  Andaman and Nicobar Islands      0       0          1\n",
       "392 2020-03-27  Andaman and Nicobar Islands      0       0          1\n",
       "420 2020-03-28  Andaman and Nicobar Islands      0       0          6\n",
       "447 2020-03-29  Andaman and Nicobar Islands      0       0          9\n",
       "474 2020-03-30  Andaman and Nicobar Islands      0       0          9"
      ]
     },
     "execution_count": 40,
     "metadata": {},
     "output_type": "execute_result"
    }
   ],
   "source": [
    "AN.head()"
   ]
  },
  {
   "cell_type": "code",
   "execution_count": 41,
   "metadata": {},
   "outputs": [
    {
     "data": {
      "text/html": [
       "<div>\n",
       "<style scoped>\n",
       "    .dataframe tbody tr th:only-of-type {\n",
       "        vertical-align: middle;\n",
       "    }\n",
       "\n",
       "    .dataframe tbody tr th {\n",
       "        vertical-align: top;\n",
       "    }\n",
       "\n",
       "    .dataframe thead th {\n",
       "        text-align: right;\n",
       "    }\n",
       "</style>\n",
       "<table border=\"1\" class=\"dataframe\">\n",
       "  <thead>\n",
       "    <tr style=\"text-align: right;\">\n",
       "      <th></th>\n",
       "      <th>date</th>\n",
       "      <th>state</th>\n",
       "      <th>cured</th>\n",
       "      <th>deaths</th>\n",
       "      <th>confirmed</th>\n",
       "    </tr>\n",
       "  </thead>\n",
       "  <tbody>\n",
       "    <tr>\n",
       "      <td>16202</td>\n",
       "      <td>2021-06-20</td>\n",
       "      <td>Andaman and Nicobar Islands</td>\n",
       "      <td>7162</td>\n",
       "      <td>127</td>\n",
       "      <td>7394</td>\n",
       "    </tr>\n",
       "    <tr>\n",
       "      <td>16238</td>\n",
       "      <td>2021-06-21</td>\n",
       "      <td>Andaman and Nicobar Islands</td>\n",
       "      <td>7177</td>\n",
       "      <td>127</td>\n",
       "      <td>7406</td>\n",
       "    </tr>\n",
       "    <tr>\n",
       "      <td>16274</td>\n",
       "      <td>2021-06-22</td>\n",
       "      <td>Andaman and Nicobar Islands</td>\n",
       "      <td>7191</td>\n",
       "      <td>127</td>\n",
       "      <td>7415</td>\n",
       "    </tr>\n",
       "    <tr>\n",
       "      <td>16310</td>\n",
       "      <td>2021-06-23</td>\n",
       "      <td>Andaman and Nicobar Islands</td>\n",
       "      <td>7195</td>\n",
       "      <td>127</td>\n",
       "      <td>7425</td>\n",
       "    </tr>\n",
       "    <tr>\n",
       "      <td>16346</td>\n",
       "      <td>2021-06-24</td>\n",
       "      <td>Andaman and Nicobar Islands</td>\n",
       "      <td>7210</td>\n",
       "      <td>127</td>\n",
       "      <td>7438</td>\n",
       "    </tr>\n",
       "  </tbody>\n",
       "</table>\n",
       "</div>"
      ],
      "text/plain": [
       "            date                        state  cured  deaths  confirmed\n",
       "16202 2021-06-20  Andaman and Nicobar Islands   7162     127       7394\n",
       "16238 2021-06-21  Andaman and Nicobar Islands   7177     127       7406\n",
       "16274 2021-06-22  Andaman and Nicobar Islands   7191     127       7415\n",
       "16310 2021-06-23  Andaman and Nicobar Islands   7195     127       7425\n",
       "16346 2021-06-24  Andaman and Nicobar Islands   7210     127       7438"
      ]
     },
     "execution_count": 41,
     "metadata": {},
     "output_type": "execute_result"
    }
   ],
   "source": [
    "AN.tail()"
   ]
  },
  {
   "cell_type": "code",
   "execution_count": 42,
   "metadata": {},
   "outputs": [
    {
     "data": {
      "text/plain": [
       "<function matplotlib.pyplot.show(*args, **kw)>"
      ]
     },
     "execution_count": 42,
     "metadata": {},
     "output_type": "execute_result"
    },
    {
     "data": {
      "image/png": "[encoded data removed]",
      "text/plain": [
       "<Figure size 720x720 with 1 Axes>"
      ]
     },
     "metadata": {},
     "output_type": "display_data"
    }
   ],
   "source": [
    "sns.set(rc={\"figure.figsize\":(10,10)})\n",
    "sns.lineplot(x=\"date\",y=\"confirmed\",data=AN,color=\"g\")\n",
    "plt.show"
   ]
  },
  {
   "cell_type": "code",
   "execution_count": 43,
   "metadata": {},
   "outputs": [
    {
     "data": {
      "text/plain": [
       "<function matplotlib.pyplot.show(*args, **kw)>"
      ]
     },
     "execution_count": 43,
     "metadata": {},
     "output_type": "execute_result"
    },
    {
     "data": {
      "image/png": "[encoded data removed]",
      "text/plain": [
       "<Figure size 720x720 with 1 Axes>"
      ]
     },
     "metadata": {},
     "output_type": "display_data"
    }
   ],
   "source": [
    "sns.set(rc={\"figure.figsize\":(10,10)})\n",
    "sns.lineplot(x=\"date\",y=\"deaths\",data=AN,color=\"r\")\n",
    "plt.show"
   ]
  },
  {
   "cell_type": "markdown",
   "metadata": {},
   "source": [
    "# Tests"
   ]
  },
  {
   "cell_type": "code",
   "execution_count": 44,
   "metadata": {},
   "outputs": [],
   "source": [
    "tests=pd.read_csv(\"C:\\\\Users\\\\User\\\\Downloads\\\\StatewiseTestingDetails.csv\")"
   ]
  },
  {
   "cell_type": "code",
   "execution_count": 45,
   "metadata": {},
   "outputs": [
    {
     "data": {
      "text/html": [
       "<div>\n",
       "<style scoped>\n",
       "    .dataframe tbody tr th:only-of-type {\n",
       "        vertical-align: middle;\n",
       "    }\n",
       "\n",
       "    .dataframe tbody tr th {\n",
       "        vertical-align: top;\n",
       "    }\n",
       "\n",
       "    .dataframe thead th {\n",
       "        text-align: right;\n",
       "    }\n",
       "</style>\n",
       "<table border=\"1\" class=\"dataframe\">\n",
       "  <thead>\n",
       "    <tr style=\"text-align: right;\">\n",
       "      <th></th>\n",
       "      <th>Date</th>\n",
       "      <th>State</th>\n",
       "      <th>TotalSamples</th>\n",
       "      <th>Negative</th>\n",
       "      <th>Positive</th>\n",
       "    </tr>\n",
       "  </thead>\n",
       "  <tbody>\n",
       "    <tr>\n",
       "      <td>0</td>\n",
       "      <td>2020-04-17</td>\n",
       "      <td>Andaman and Nicobar Islands</td>\n",
       "      <td>1403.0</td>\n",
       "      <td>1210</td>\n",
       "      <td>12.0</td>\n",
       "    </tr>\n",
       "    <tr>\n",
       "      <td>1</td>\n",
       "      <td>2020-04-24</td>\n",
       "      <td>Andaman and Nicobar Islands</td>\n",
       "      <td>2679.0</td>\n",
       "      <td>NaN</td>\n",
       "      <td>27.0</td>\n",
       "    </tr>\n",
       "    <tr>\n",
       "      <td>2</td>\n",
       "      <td>2020-04-27</td>\n",
       "      <td>Andaman and Nicobar Islands</td>\n",
       "      <td>2848.0</td>\n",
       "      <td>NaN</td>\n",
       "      <td>33.0</td>\n",
       "    </tr>\n",
       "    <tr>\n",
       "      <td>3</td>\n",
       "      <td>2020-05-01</td>\n",
       "      <td>Andaman and Nicobar Islands</td>\n",
       "      <td>3754.0</td>\n",
       "      <td>NaN</td>\n",
       "      <td>33.0</td>\n",
       "    </tr>\n",
       "    <tr>\n",
       "      <td>4</td>\n",
       "      <td>2020-05-16</td>\n",
       "      <td>Andaman and Nicobar Islands</td>\n",
       "      <td>6677.0</td>\n",
       "      <td>NaN</td>\n",
       "      <td>33.0</td>\n",
       "    </tr>\n",
       "  </tbody>\n",
       "</table>\n",
       "</div>"
      ],
      "text/plain": [
       "         Date                        State  TotalSamples Negative  Positive\n",
       "0  2020-04-17  Andaman and Nicobar Islands        1403.0     1210      12.0\n",
       "1  2020-04-24  Andaman and Nicobar Islands        2679.0      NaN      27.0\n",
       "2  2020-04-27  Andaman and Nicobar Islands        2848.0      NaN      33.0\n",
       "3  2020-05-01  Andaman and Nicobar Islands        3754.0      NaN      33.0\n",
       "4  2020-05-16  Andaman and Nicobar Islands        6677.0      NaN      33.0"
      ]
     },
     "execution_count": 45,
     "metadata": {},
     "output_type": "execute_result"
    }
   ],
   "source": [
    "tests.head()"
   ]
  },
  {
   "cell_type": "code",
   "execution_count": 46,
   "metadata": {},
   "outputs": [
    {
     "data": {
      "text/html": [
       "<div>\n",
       "<style scoped>\n",
       "    .dataframe tbody tr th:only-of-type {\n",
       "        vertical-align: middle;\n",
       "    }\n",
       "\n",
       "    .dataframe tbody tr th {\n",
       "        vertical-align: top;\n",
       "    }\n",
       "\n",
       "    .dataframe thead th {\n",
       "        text-align: right;\n",
       "    }\n",
       "</style>\n",
       "<table border=\"1\" class=\"dataframe\">\n",
       "  <thead>\n",
       "    <tr style=\"text-align: right;\">\n",
       "      <th></th>\n",
       "      <th>Date</th>\n",
       "      <th>State</th>\n",
       "      <th>TotalSamples</th>\n",
       "      <th>Negative</th>\n",
       "      <th>Positive</th>\n",
       "    </tr>\n",
       "  </thead>\n",
       "  <tbody>\n",
       "    <tr>\n",
       "      <td>14653</td>\n",
       "      <td>2021-06-19</td>\n",
       "      <td>West Bengal</td>\n",
       "      <td>13631865.0</td>\n",
       "      <td>NaN</td>\n",
       "      <td>NaN</td>\n",
       "    </tr>\n",
       "    <tr>\n",
       "      <td>14654</td>\n",
       "      <td>2021-06-20</td>\n",
       "      <td>West Bengal</td>\n",
       "      <td>13684862.0</td>\n",
       "      <td>NaN</td>\n",
       "      <td>NaN</td>\n",
       "    </tr>\n",
       "    <tr>\n",
       "      <td>14655</td>\n",
       "      <td>2021-06-21</td>\n",
       "      <td>West Bengal</td>\n",
       "      <td>13732633.0</td>\n",
       "      <td>NaN</td>\n",
       "      <td>NaN</td>\n",
       "    </tr>\n",
       "    <tr>\n",
       "      <td>14656</td>\n",
       "      <td>2021-06-22</td>\n",
       "      <td>West Bengal</td>\n",
       "      <td>13783866.0</td>\n",
       "      <td>NaN</td>\n",
       "      <td>NaN</td>\n",
       "    </tr>\n",
       "    <tr>\n",
       "      <td>14657</td>\n",
       "      <td>2021-06-23</td>\n",
       "      <td>West Bengal</td>\n",
       "      <td>13839455.0</td>\n",
       "      <td>NaN</td>\n",
       "      <td>NaN</td>\n",
       "    </tr>\n",
       "  </tbody>\n",
       "</table>\n",
       "</div>"
      ],
      "text/plain": [
       "             Date        State  TotalSamples Negative  Positive\n",
       "14653  2021-06-19  West Bengal    13631865.0      NaN       NaN\n",
       "14654  2021-06-20  West Bengal    13684862.0      NaN       NaN\n",
       "14655  2021-06-21  West Bengal    13732633.0      NaN       NaN\n",
       "14656  2021-06-22  West Bengal    13783866.0      NaN       NaN\n",
       "14657  2021-06-23  West Bengal    13839455.0      NaN       NaN"
      ]
     },
     "execution_count": 46,
     "metadata": {},
     "output_type": "execute_result"
    }
   ],
   "source": [
    "tests.tail()"
   ]
  },
  {
   "cell_type": "markdown",
   "metadata": {},
   "source": [
    "# Building Machine Learning Model to predict the no. of coronavirus cases."
   ]
  },
  {
   "cell_type": "code",
   "execution_count": 47,
   "metadata": {},
   "outputs": [],
   "source": [
    "from sklearn.model_selection import train_test_split"
   ]
  },
  {
   "cell_type": "code",
   "execution_count": 48,
   "metadata": {},
   "outputs": [
    {
     "name": "stderr",
     "output_type": "stream",
     "text": [
      "C:\\Users\\User\\Anaconda3\\lib\\site-packages\\ipykernel_launcher.py:1: SettingWithCopyWarning: \n",
      "A value is trying to be set on a copy of a slice from a DataFrame.\n",
      "Try using .loc[row_indexer,col_indexer] = value instead\n",
      "\n",
      "See the caveats in the documentation: http://pandas.pydata.org/pandas-docs/stable/user_guide/indexing.html#returning-a-view-versus-a-copy\n",
      "  \"\"\"Entry point for launching an IPython kernel.\n"
     ]
    }
   ],
   "source": [
    "MH['date']=MH['date'].map(dt.datetime.toordinal)   #converting dates into linear values"
   ]
  },
  {
   "cell_type": "code",
   "execution_count": 49,
   "metadata": {
    "scrolled": true
   },
   "outputs": [
    {
     "data": {
      "text/html": [
       "<div>\n",
       "<style scoped>\n",
       "    .dataframe tbody tr th:only-of-type {\n",
       "        vertical-align: middle;\n",
       "    }\n",
       "\n",
       "    .dataframe tbody tr th {\n",
       "        vertical-align: top;\n",
       "    }\n",
       "\n",
       "    .dataframe thead th {\n",
       "        text-align: right;\n",
       "    }\n",
       "</style>\n",
       "<table border=\"1\" class=\"dataframe\">\n",
       "  <thead>\n",
       "    <tr style=\"text-align: right;\">\n",
       "      <th></th>\n",
       "      <th>date</th>\n",
       "      <th>state</th>\n",
       "      <th>cured</th>\n",
       "      <th>deaths</th>\n",
       "      <th>confirmed</th>\n",
       "    </tr>\n",
       "  </thead>\n",
       "  <tbody>\n",
       "    <tr>\n",
       "      <td>76</td>\n",
       "      <td>737493</td>\n",
       "      <td>Maharashtra</td>\n",
       "      <td>0</td>\n",
       "      <td>0</td>\n",
       "      <td>2</td>\n",
       "    </tr>\n",
       "    <tr>\n",
       "      <td>91</td>\n",
       "      <td>737494</td>\n",
       "      <td>Maharashtra</td>\n",
       "      <td>0</td>\n",
       "      <td>0</td>\n",
       "      <td>5</td>\n",
       "    </tr>\n",
       "    <tr>\n",
       "      <td>97</td>\n",
       "      <td>737495</td>\n",
       "      <td>Maharashtra</td>\n",
       "      <td>0</td>\n",
       "      <td>0</td>\n",
       "      <td>2</td>\n",
       "    </tr>\n",
       "    <tr>\n",
       "      <td>120</td>\n",
       "      <td>737496</td>\n",
       "      <td>Maharashtra</td>\n",
       "      <td>0</td>\n",
       "      <td>0</td>\n",
       "      <td>11</td>\n",
       "    </tr>\n",
       "    <tr>\n",
       "      <td>133</td>\n",
       "      <td>737497</td>\n",
       "      <td>Maharashtra</td>\n",
       "      <td>0</td>\n",
       "      <td>0</td>\n",
       "      <td>14</td>\n",
       "    </tr>\n",
       "  </tbody>\n",
       "</table>\n",
       "</div>"
      ],
      "text/plain": [
       "       date        state  cured  deaths  confirmed\n",
       "76   737493  Maharashtra      0       0          2\n",
       "91   737494  Maharashtra      0       0          5\n",
       "97   737495  Maharashtra      0       0          2\n",
       "120  737496  Maharashtra      0       0         11\n",
       "133  737497  Maharashtra      0       0         14"
      ]
     },
     "execution_count": 49,
     "metadata": {},
     "output_type": "execute_result"
    }
   ],
   "source": [
    "MH.head()"
   ]
  },
  {
   "cell_type": "code",
   "execution_count": 50,
   "metadata": {},
   "outputs": [],
   "source": [
    "x=MH['date']\n",
    "y=MH['confirmed']"
   ]
  },
  {
   "cell_type": "code",
   "execution_count": 51,
   "metadata": {},
   "outputs": [],
   "source": [
    "x_train,x_test,y_train,y_test=train_test_split(x,y,test_size=0.3)"
   ]
  },
  {
   "cell_type": "code",
   "execution_count": 52,
   "metadata": {},
   "outputs": [],
   "source": [
    "from sklearn.ensemble import RandomForestRegressor"
   ]
  },
  {
   "cell_type": "code",
   "execution_count": 53,
   "metadata": {},
   "outputs": [],
   "source": [
    "rf=RandomForestRegressor()"
   ]
  },
  {
   "cell_type": "code",
   "execution_count": 54,
   "metadata": {},
   "outputs": [
    {
     "name": "stderr",
     "output_type": "stream",
     "text": [
      "C:\\Users\\User\\Anaconda3\\lib\\site-packages\\sklearn\\ensemble\\forest.py:245: FutureWarning: The default value of n_estimators will change from 10 in version 0.20 to 100 in 0.22.\n",
      "  \"10 in version 0.20 to 100 in 0.22.\", FutureWarning)\n",
      "C:\\Users\\User\\Anaconda3\\lib\\site-packages\\ipykernel_launcher.py:1: DataConversionWarning: A column-vector y was passed when a 1d array was expected. Please change the shape of y to (n_samples,), for example using ravel().\n",
      "  \"\"\"Entry point for launching an IPython kernel.\n"
     ]
    },
    {
     "data": {
      "text/plain": [
       "RandomForestRegressor(bootstrap=True, criterion='mse', max_depth=None,\n",
       "                      max_features='auto', max_leaf_nodes=None,\n",
       "                      min_impurity_decrease=0.0, min_impurity_split=None,\n",
       "                      min_samples_leaf=1, min_samples_split=2,\n",
       "                      min_weight_fraction_leaf=0.0, n_estimators=10,\n",
       "                      n_jobs=None, oob_score=False, random_state=None,\n",
       "                      verbose=0, warm_start=False)"
      ]
     },
     "execution_count": 54,
     "metadata": {},
     "output_type": "execute_result"
    }
   ],
   "source": [
    "rf.fit(np.array(x_train).reshape(-1,1),np.array(y_train).reshape(-1,1))"
   ]
  },
  {
   "cell_type": "code",
   "execution_count": 55,
   "metadata": {},
   "outputs": [
    {
     "data": {
      "text/html": [
       "<div>\n",
       "<style scoped>\n",
       "    .dataframe tbody tr th:only-of-type {\n",
       "        vertical-align: middle;\n",
       "    }\n",
       "\n",
       "    .dataframe tbody tr th {\n",
       "        vertical-align: top;\n",
       "    }\n",
       "\n",
       "    .dataframe thead th {\n",
       "        text-align: right;\n",
       "    }\n",
       "</style>\n",
       "<table border=\"1\" class=\"dataframe\">\n",
       "  <thead>\n",
       "    <tr style=\"text-align: right;\">\n",
       "      <th></th>\n",
       "      <th>date</th>\n",
       "      <th>state</th>\n",
       "      <th>cured</th>\n",
       "      <th>deaths</th>\n",
       "      <th>confirmed</th>\n",
       "    </tr>\n",
       "  </thead>\n",
       "  <tbody>\n",
       "    <tr>\n",
       "      <td>76</td>\n",
       "      <td>737493</td>\n",
       "      <td>Maharashtra</td>\n",
       "      <td>0</td>\n",
       "      <td>0</td>\n",
       "      <td>2</td>\n",
       "    </tr>\n",
       "    <tr>\n",
       "      <td>91</td>\n",
       "      <td>737494</td>\n",
       "      <td>Maharashtra</td>\n",
       "      <td>0</td>\n",
       "      <td>0</td>\n",
       "      <td>5</td>\n",
       "    </tr>\n",
       "    <tr>\n",
       "      <td>97</td>\n",
       "      <td>737495</td>\n",
       "      <td>Maharashtra</td>\n",
       "      <td>0</td>\n",
       "      <td>0</td>\n",
       "      <td>2</td>\n",
       "    </tr>\n",
       "    <tr>\n",
       "      <td>120</td>\n",
       "      <td>737496</td>\n",
       "      <td>Maharashtra</td>\n",
       "      <td>0</td>\n",
       "      <td>0</td>\n",
       "      <td>11</td>\n",
       "    </tr>\n",
       "    <tr>\n",
       "      <td>133</td>\n",
       "      <td>737497</td>\n",
       "      <td>Maharashtra</td>\n",
       "      <td>0</td>\n",
       "      <td>0</td>\n",
       "      <td>14</td>\n",
       "    </tr>\n",
       "    <tr>\n",
       "      <td>146</td>\n",
       "      <td>737498</td>\n",
       "      <td>Maharashtra</td>\n",
       "      <td>0</td>\n",
       "      <td>0</td>\n",
       "      <td>14</td>\n",
       "    </tr>\n",
       "  </tbody>\n",
       "</table>\n",
       "</div>"
      ],
      "text/plain": [
       "       date        state  cured  deaths  confirmed\n",
       "76   737493  Maharashtra      0       0          2\n",
       "91   737494  Maharashtra      0       0          5\n",
       "97   737495  Maharashtra      0       0          2\n",
       "120  737496  Maharashtra      0       0         11\n",
       "133  737497  Maharashtra      0       0         14\n",
       "146  737498  Maharashtra      0       0         14"
      ]
     },
     "execution_count": 55,
     "metadata": {},
     "output_type": "execute_result"
    }
   ],
   "source": [
    "MH.head(6)"
   ]
  },
  {
   "cell_type": "code",
   "execution_count": 56,
   "metadata": {},
   "outputs": [
    {
     "data": {
      "text/plain": [
       "array([13.7])"
      ]
     },
     "execution_count": 56,
     "metadata": {},
     "output_type": "execute_result"
    }
   ],
   "source": [
    "rf.predict([[737498]])"
   ]
  },
  {
   "cell_type": "markdown",
   "metadata": {},
   "source": [
    "On numerical value of date= '737498' no. of cases were 14 and our model predicted 15.8 which is equal to 15."
   ]
  }
 ],
 "metadata": {
  "kernelspec": {
   "display_name": "Python 3",
   "language": "python",
   "name": "python3"
  },
  "language_info": {
   "codemirror_mode": {
    "name": "ipython",
    "version": 3
   },
   "file_extension": ".py",
   "mimetype": "text/x-python",
   "name": "python",
   "nbconvert_exporter": "python",
   "pygments_lexer": "ipython3",
   "version": "3.7.4"
  }
 },
 "nbformat": 4,
 "nbformat_minor": 2
}
